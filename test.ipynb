{
 "cells": [
  {
   "cell_type": "code",
   "execution_count": 28,
   "metadata": {},
   "outputs": [],
   "source": [
    "import numpy as np\n",
    "import gym\n",
    "from buffer import Buffer\n",
    "\n",
    "env = gym.make('CartPole-v1')\n",
    "\n",
    "dim_states = env.observation_space.shape[0]\n",
    "continuous_control = isinstance(env.action_space, gym.spaces.Box)\n",
    "dim_actions = env.action_space.shape[0] if continuous_control else env.action_space.n\n",
    "\n",
    "buffer = Buffer(dim_states=dim_states, dim_actions=dim_actions, max_size = 12, sample_size = 4, continuous_control=continuous_control, drop_last=False, shuffle = True)\n",
    "\n",
    "ob_t = env.reset()\n",
    "for _ in range(10):\n",
    "    \n",
    "    act_t = env.action_space.sample()\n",
    "    \n",
    "    ob_t1, rew_t, done, _ = env.step(act_t)\n",
    "    \n",
    "    experience = ob_t, act_t, ob_t1\n",
    "    \n",
    "    buffer.store_transition(*experience)\n",
    "    \n",
    "    ob_t = ob_t1\n",
    "    \n",
    "    if done:\n",
    "        ob_t = env.reset()"
   ]
  },
  {
   "cell_type": "code",
   "execution_count": 30,
   "metadata": {},
   "outputs": [
    {
     "name": "stdout",
     "output_type": "stream",
     "text": [
      "3\n"
     ]
    },
    {
     "data": {
      "text/plain": [
       "[(array([[ 0.0264977 , -0.1531916 ,  0.00527109,  0.25160995],\n",
       "         [ 0.00970173,  0.23503207,  0.03581439, -0.28941116],\n",
       "         [ 0.02427096, -0.15341349,  0.00951517,  0.25651011],\n",
       "         [ 0.00889285,  0.0404441 ,  0.03598027, -0.00829405]]),\n",
       "  array([[0., 1.],\n",
       "         [1., 0.],\n",
       "         [0., 1.],\n",
       "         [0., 1.]]),\n",
       "  array([[ 0.02343387,  0.04185469,  0.01030329, -0.03940571],\n",
       "         [ 0.01440237,  0.0394182 ,  0.03002617,  0.01434865],\n",
       "         [ 0.02120269,  0.04157133,  0.01464538, -0.03315645],\n",
       "         [ 0.00970173,  0.23503207,  0.03581439, -0.28941116]])),\n",
       " (array([[ 0.02565734,  0.04201773,  0.00613111, -0.04300106],\n",
       "         [ 0.02120269,  0.04157133,  0.01464538, -0.03315645],\n",
       "         [ 0.02343387,  0.04185469,  0.01030329, -0.03940571],\n",
       "         [ 0.01895897, -0.34907624,  0.01926447,  0.56117111]]),\n",
       "  array([[1., 0.],\n",
       "         [1., 0.],\n",
       "         [1., 0.],\n",
       "         [0., 1.]]),\n",
       "  array([[ 0.0264977 , -0.1531916 ,  0.00527109,  0.25160995],\n",
       "         [ 0.02203412, -0.15375754,  0.01398225,  0.26411104],\n",
       "         [ 0.02427096, -0.15341349,  0.00951517,  0.25651011],\n",
       "         [ 0.01197744, -0.15422988,  0.03048789,  0.27461919]])),\n",
       " (array([[ 0.02203412, -0.15375754,  0.01398225,  0.26411104],\n",
       "         [ 0.01197744, -0.15422988,  0.03048789,  0.27461919]]),\n",
       "  array([[1., 0.],\n",
       "         [0., 1.]]),\n",
       "  array([[ 0.01895897, -0.34907624,  0.01926447,  0.56117111],\n",
       "         [ 0.00889285,  0.0404441 ,  0.03598027, -0.00829405]]))]"
      ]
     },
     "execution_count": 30,
     "metadata": {},
     "output_type": "execute_result"
    }
   ],
   "source": [
    "batches = buffer.get_batches()\n",
    "\n",
    "n_batches = len(batches)\n",
    "print(n_batches)\n",
    "\n",
    "batches"
   ]
  },
  {
   "cell_type": "code",
   "execution_count": null,
   "metadata": {},
   "outputs": [],
   "source": [
    "rows = np.random.permutation(len(buffer._a_t_array))\n",
    "\n",
    "a = buffer._a_t_array[rows].copy()"
   ]
  },
  {
   "cell_type": "code",
   "execution_count": null,
   "metadata": {},
   "outputs": [],
   "source": [
    "buffer._a_t_array[rows]"
   ]
  },
  {
   "cell_type": "code",
   "execution_count": null,
   "metadata": {},
   "outputs": [],
   "source": [
    "a[0] = np.nan\n",
    "a"
   ]
  },
  {
   "cell_type": "code",
   "execution_count": null,
   "metadata": {},
   "outputs": [],
   "source": []
  }
 ],
 "metadata": {
  "kernelspec": {
   "display_name": "base",
   "language": "python",
   "name": "python3"
  },
  "language_info": {
   "codemirror_mode": {
    "name": "ipython",
    "version": 3
   },
   "file_extension": ".py",
   "mimetype": "text/x-python",
   "name": "python",
   "nbconvert_exporter": "python",
   "pygments_lexer": "ipython3",
   "version": "3.8.8"
  },
  "orig_nbformat": 4
 },
 "nbformat": 4,
 "nbformat_minor": 2
}
